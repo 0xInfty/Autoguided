{
 "cells": [
  {
   "cell_type": "markdown",
   "metadata": {},
   "source": [
    "# KL Divergence Test"
   ]
  },
  {
   "cell_type": "markdown",
   "metadata": {},
   "source": [
    "## General"
   ]
  },
  {
   "cell_type": "markdown",
   "metadata": {},
   "source": [
    "### Imports"
   ]
  },
  {
   "cell_type": "code",
   "execution_count": null,
   "metadata": {},
   "outputs": [],
   "source": [
    "import pyvdirs.dirs as dirs\n",
    "import sys\n",
    "import os\n",
    "sys.path.insert(0, dirs.SYSTEM_HOME)\n",
    "sys.path.insert(0, os.path.join(dirs.SYSTEM_HOME, \"ToyExample\"))\n",
    "\n",
    "import copy\n",
    "import pickle\n",
    "import builtins\n",
    "import numpy as np\n",
    "import torch\n",
    "import matplotlib.pyplot as plt\n",
    "import pyvtools.text as vtext\n",
    "\n",
    "import ToyExample.dnnlib.util as dnnlib\n",
    "from ToyExample.torch_utils import persistence\n",
    "import ToyExample.training.phema as phema\n",
    "\n",
    "import ToyExample.toy_example as toy\n",
    "\n",
    "%load_ext autoreload\n",
    "%autoreload 2"
   ]
  },
  {
   "cell_type": "markdown",
   "metadata": {},
   "source": [
    "### Parameters"
   ]
  },
  {
   "cell_type": "code",
   "execution_count": 2,
   "metadata": {},
   "outputs": [],
   "source": [
    "# Network parameters\n",
    "classes='A'\n",
    "num_layers=4\n",
    "hidden_dim=64\n",
    "batch_size=4<<10\n",
    "total_iter=4<<10\n",
    "\n",
    "# Distribution parameters\n",
    "P_mean=-2.3\n",
    "P_std=1.5\n",
    "sigma_data=0.5\n",
    "sigma_max=5\n",
    "lr_ref=1e-2\n",
    "lr_iter=512\n",
    "ema_std=0.010\n",
    "\n",
    "# Guidance parameters\n",
    "guidance=False\n",
    "guidance_weight=3\n",
    "guide_path=os.path.join(dirs.MODELS_HOME, \"ToyExample\", \"10_EarlyStopACID\", \"Ref\", \"iter0512.pkl\")\n",
    "guide_interpolation=False\n",
    "\n",
    "# ACID parameters\n",
    "acid=False\n",
    "acid_n=16\n",
    "acid_f=0.8\n",
    "acid_diff=True\n",
    "acid_inverted=False\n",
    "\n",
    "# Training parameters\n",
    "val_batch_size=4<<7\n",
    "test_batch_size=4<<8\n",
    "\n",
    "# Other parameters\n",
    "device=torch.device('cuda')\n",
    "fig1_kwargs = dict(view_x=0.30, view_y=0.30, view_size=1.2, device=device)\n",
    "fig2_kwargs = dict(view_x=0.45, view_y=1.22, view_size=0.3, device=device)#, sample_distance=0.045, sigma_max=0.03)\n",
    "seed=0"
   ]
  },
  {
   "cell_type": "markdown",
   "metadata": {},
   "source": [
    "### Initialization"
   ]
  },
  {
   "cell_type": "code",
   "execution_count": 3,
   "metadata": {},
   "outputs": [
    {
     "name": "stdout",
     "output_type": "stream",
     "text": [
      "Seed =  0\n"
     ]
    }
   ],
   "source": [
    "# Set random seed, if specified\n",
    "if seed is not None:\n",
    "    print(\"Seed = \", seed)\n",
    "    torch.manual_seed(seed)\n",
    "    generator = torch.Generator(device).manual_seed(seed)\n",
    "    np.random.seed(seed)"
   ]
  },
  {
   "cell_type": "code",
   "execution_count": 5,
   "metadata": {},
   "outputs": [
    {
     "name": "stderr",
     "output_type": "stream",
     "text": [
      "/home/vale/anaconda3/envs/SCID/lib/python3.13/site-packages/torch/cuda/__init__.py:734: UserWarning: Can't initialize NVML\n",
      "  warnings.warn(\"Can't initialize NVML\")\n"
     ]
    },
    {
     "name": "stdout",
     "output_type": "stream",
     "text": [
      "Guide model loaded from /media/vale/QuickData/Vale/Training/models/SCID/ToyExample/10_EarlyStopACID/Ref/iter0512.pkl\n"
     ]
    }
   ],
   "source": [
    "# Initialize models\n",
    "net = toy.ToyModel(num_layers=num_layers, hidden_dim=hidden_dim, sigma_data=sigma_data).to(device).train().requires_grad_(True)\n",
    "ema = copy.deepcopy(net).eval().requires_grad_(False)\n",
    "opt = torch.optim.Adam(net.parameters(), betas=(0.9, 0.99))\n",
    "if guide_path is not None:\n",
    "    with builtins.open(guide_path, \"rb\") as f:\n",
    "        guide = pickle.load(f).to(device)\n",
    "    print(\"Guide model loaded from\", guide_path)\n",
    "else:\n",
    "    guide = None\n",
    "if guidance and acid:\n",
    "    ref = guide\n",
    "    print(\"Guide model assigned as ACID reference\")\n",
    "elif acid: \n",
    "    ref = ema\n",
    "    print(\"EMA assigned as ACID reference\")\n",
    "else: ref = None"
   ]
  },
  {
   "cell_type": "code",
   "execution_count": null,
   "metadata": {},
   "outputs": [],
   "source": []
  },
  {
   "cell_type": "markdown",
   "metadata": {},
   "source": [
    "## Discrete KL divergence"
   ]
  },
  {
   "cell_type": "markdown",
   "metadata": {},
   "source": [
    "### General"
   ]
  },
  {
   "cell_type": "code",
   "execution_count": 32,
   "metadata": {},
   "outputs": [],
   "source": [
    "def estimate_KL_divergence(model, n_samples, logging=False):\n",
    "    sigma = (torch.randn(n_samples, device=device) * P_std + P_mean).exp()\n",
    "    samples = toy.gt(classes, device).sample(n_samples, sigma) #Q: Why do they redefine the Gaussian mixture distribution twice on each iteration?\n",
    "    gt_logp = toy.gt(classes, device).logp(samples, sigma)\n",
    "    net_logp = model.logp(samples, sigma)\n",
    "    if logging:\n",
    "        print(\"Samples\", samples[:10])\n",
    "        print(\"Ground Truth Logp\", gt_logp[:10])\n",
    "        print(\"Model's Logp\", net_logp[:10])\n",
    "        print(\"Model's Max Logp\", max(net_logp[:10]))\n",
    "        print(\"Model's Min Logp\", min(net_logp[:10]))\n",
    "        print(\"Model's p\", torch.exp( net_logp )[:10])\n",
    "    return float(torch.sum( torch.exp( net_logp - max(net_logp) ) * (net_logp - gt_logp) ) / n_samples)"
   ]
  },
  {
   "cell_type": "code",
   "execution_count": 30,
   "metadata": {},
   "outputs": [
    {
     "name": "stdout",
     "output_type": "stream",
     "text": [
      "Samples tensor([[ 0.3750,  1.2422],\n",
      "        [-0.0401,  0.0893],\n",
      "        [ 2.1985,  1.0319],\n",
      "        [ 0.1186,  0.0788],\n",
      "        [ 0.4186,  0.4665],\n",
      "        [ 0.1633,  0.5172],\n",
      "        [ 0.1835,  0.2117],\n",
      "        [ 0.5415,  0.6946],\n",
      "        [ 0.0161,  0.5386],\n",
      "        [ 0.8778, -0.0187]], device='cuda:0')\n",
      "Ground Truth Logp tensor([-1.9154, -0.5419, -3.9375, -1.9402, -0.2401,  0.5995,  1.3995, -0.9313,\n",
      "        -0.3543, -0.6567], device='cuda:0')\n",
      "Model's Logp tensor([ 3.6239,  7.9367,  0.4473,  2.0451, 14.0206, 35.8806, 31.6398,  8.9845,\n",
      "        19.9973, 31.2320], device='cuda:0')\n",
      "Model's Max Logp tensor(35.8806, device='cuda:0')\n",
      "Model's Min Logp tensor(0.4473, device='cuda:0')\n",
      "Model's p tensor([3.7485e+01, 2.7982e+03, 1.5640e+00, 7.7302e+00, 1.2276e+06, 3.8260e+15,\n",
      "        5.5081e+13, 7.9788e+03, 4.8386e+08, 3.6635e+13], device='cuda:0')\n"
     ]
    },
    {
     "data": {
      "text/plain": [
       "0.02727900817990303"
      ]
     },
     "execution_count": 30,
     "metadata": {},
     "output_type": "execute_result"
    }
   ],
   "source": [
    "batch_size = 1<<18 # 1<<18 takes a full second\n",
    "estimate_KL_divergence(guide, batch_size)"
   ]
  },
  {
   "cell_type": "markdown",
   "metadata": {},
   "source": [
    "### Check for guide and for untrained model"
   ]
  },
  {
   "cell_type": "code",
   "execution_count": 33,
   "metadata": {},
   "outputs": [],
   "source": [
    "n_samples = [1<<i for i in range(13,19)]\n",
    "\n",
    "net_mean_results, net_std_results = [], []\n",
    "guide_mean_results, guide_std_results = [], []\n",
    "for n in n_samples:\n",
    "    net_results, guide_results = [], []\n",
    "    for k in range(10): \n",
    "        net_results.append( estimate_KL_divergence(net, n) )\n",
    "        guide_results.append( estimate_KL_divergence(guide, n) )\n",
    "    net_mean_results.append( float(np.mean( net_results )) )\n",
    "    net_std_results.append( float(np.std( net_results )) )\n",
    "    guide_mean_results.append( float(np.mean( guide_results )) )\n",
    "    guide_std_results.append( float(np.std( guide_results )) )\n"
   ]
  },
  {
   "cell_type": "code",
   "execution_count": 34,
   "metadata": {},
   "outputs": [
    {
     "data": {
      "text/plain": [
       "[-0.15338555425405503,\n",
       " -0.15949326604604722,\n",
       " -0.15788108110427856,\n",
       " -0.15793289244174957,\n",
       " -0.15666548907756805,\n",
       " -0.15716473758220673]"
      ]
     },
     "execution_count": 34,
     "metadata": {},
     "output_type": "execute_result"
    }
   ],
   "source": [
    "net_mean_results"
   ]
  },
  {
   "cell_type": "code",
   "execution_count": 35,
   "metadata": {},
   "outputs": [
    {
     "data": {
      "text/plain": [
       "[0.006897717240097406,\n",
       " 0.006643645146808534,\n",
       " 0.006324348566740532,\n",
       " 0.001403445788673892,\n",
       " 0.0017624047203736685,\n",
       " 0.0020937785389164294]"
      ]
     },
     "execution_count": 35,
     "metadata": {},
     "output_type": "execute_result"
    }
   ],
   "source": [
    "net_std_results"
   ]
  },
  {
   "cell_type": "code",
   "execution_count": 36,
   "metadata": {},
   "outputs": [
    {
     "data": {
      "text/plain": [
       "[0.41950732171535493,\n",
       " 0.2291453957557678,\n",
       " 0.1409598931670189,\n",
       " 0.10249877572059632,\n",
       " 0.05564229823648929,\n",
       " 0.03509714342653751]"
      ]
     },
     "execution_count": 36,
     "metadata": {},
     "output_type": "execute_result"
    }
   ],
   "source": [
    "guide_mean_results"
   ]
  },
  {
   "cell_type": "code",
   "execution_count": 37,
   "metadata": {},
   "outputs": [
    {
     "data": {
      "text/plain": [
       "[0.1693544528145813,\n",
       " 0.07284975098757966,\n",
       " 0.053083673239432735,\n",
       " 0.055096763107228844,\n",
       " 0.015086107040142663,\n",
       " 0.00745716254367764]"
      ]
     },
     "execution_count": 37,
     "metadata": {},
     "output_type": "execute_result"
    }
   ],
   "source": [
    "guide_std_results"
   ]
  },
  {
   "cell_type": "code",
   "execution_count": 53,
   "metadata": {},
   "outputs": [
    {
     "data": {
      "text/plain": [
       "<matplotlib.legend.Legend at 0x7de4fe225450>"
      ]
     },
     "execution_count": 53,
     "metadata": {},
     "output_type": "execute_result"
    },
    {
     "data": {
      "image/png": "[encoded data removed]",
      "text/plain": [
       "<Figure size 640x480 with 2 Axes>"
      ]
     },
     "metadata": {},
     "output_type": "display_data"
    }
   ],
   "source": [
    "fig, axes = plt.subplots()\n",
    "axes = [axes, axes.twinx()]\n",
    "l0 = axes[0].errorbar(n_samples, net_mean_results, net_std_results, \n",
    "                      color=\"C0\", label=\"Untrained model\")\n",
    "l1 = axes[1].errorbar(n_samples, guide_mean_results, guide_std_results, \n",
    "                      color=\"C3\", label=\"Guide\")\n",
    "for ax in axes: ax.set_xscale(\"log\")\n",
    "axes[0].set_ylabel(r\"KL$(\\tilde{p}_{net}\\;||\\;\\tilde{q})$\");\n",
    "axes[1].set_ylabel(r\"KL$(\\tilde{p}_{guide}\\;||\\;\\tilde{q})$\");\n",
    "axes[0].set_xlabel(\"Number of samples\");\n",
    "plt.legend([l0, l1], [\"Untrained model\", \"Guide model\"])"
   ]
  },
  {
   "cell_type": "markdown",
   "metadata": {},
   "source": [
    "### Check for all different checkpoints in a training run"
   ]
  },
  {
   "cell_type": "code",
   "execution_count": 65,
   "metadata": {},
   "outputs": [],
   "source": [
    "n_samples = 1<<17\n",
    "checkpoints_path = os.path.join(dirs.MODELS_HOME, \"ToyExample\", \"10_EarlyStopACID\", \n",
    "                                \"InvertedGuideACID\")\n",
    "\n",
    "checkpoints = os.listdir(checkpoints_path)\n",
    "checkpoints = vtext.filter_by_string_must(checkpoints, \".pkl\")\n",
    "checkpoints = vtext.filter_by_string_must(checkpoints, \"learner\", must=False)\n",
    "checkpoints_filepaths = [os.path.join(checkpoints_path, filename) for filename in checkpoints]"
   ]
  },
  {
   "cell_type": "code",
   "execution_count": 66,
   "metadata": {},
   "outputs": [],
   "source": [
    "mean_results, std_results = [], []\n",
    "for filepath in checkpoints_filepaths:\n",
    "    \n",
    "    # Load checkpoint\n",
    "    with builtins.open(guide_path, \"rb\") as f:\n",
    "        model = pickle.load(f).to(device)\n",
    "    results = []\n",
    "    \n",
    "    # Estimate 10 times\n",
    "    for k in range(10): \n",
    "        results.append( estimate_KL_divergence(model, n_samples) )\n",
    "    \n",
    "    # Get mean and standard deviation\n",
    "    mean_results.append( float(np.mean( results )) )\n",
    "    std_results.append( float(np.std( results )) )"
   ]
  },
  {
   "cell_type": "code",
   "execution_count": 67,
   "metadata": {},
   "outputs": [
    {
     "data": {
      "text/plain": [
       "[<matplotlib.lines.Line2D at 0x7de58dd30190>]"
      ]
     },
     "execution_count": 67,
     "metadata": {},
     "output_type": "execute_result"
    },
    {
     "data": {
      "image/png": "[encoded data removed]",
      "text/plain": [
       "<Figure size 640x480 with 1 Axes>"
      ]
     },
     "metadata": {},
     "output_type": "display_data"
    }
   ],
   "source": [
    "plt.plot(mean_results)"
   ]
  },
  {
   "cell_type": "markdown",
   "metadata": {},
   "source": [
    "## Continuous KL divergence"
   ]
  },
  {
   "cell_type": "code",
   "execution_count": 79,
   "metadata": {},
   "outputs": [],
   "source": [
    "grid_resolution=400\n",
    "\n",
    "gridx = np.linspace(fig1_kwargs[\"view_x\"] - fig1_kwargs[\"view_size\"], \n",
    "                    fig1_kwargs[\"view_x\"] + fig1_kwargs[\"view_size\"], \n",
    "                    grid_resolution)\n",
    "gridy = np.linspace(fig1_kwargs[\"view_y\"] - fig1_kwargs[\"view_size\"], \n",
    "                    fig1_kwargs[\"view_y\"] + fig1_kwargs[\"view_size\"], \n",
    "                    grid_resolution)\n",
    "gridxy = np.meshgrid(gridx, gridy, indexing='xy')\n",
    "# gridxy = torch.stack(torch.meshgrid(gridx, gridy, indexing='xy'), axis=-1)"
   ]
  },
  {
   "cell_type": "code",
   "execution_count": null,
   "metadata": {},
   "outputs": [],
   "source": [
    "# def f(x, y):\n",
    "    \n",
    "    \n",
    "#     gt_logp = toy.gt(classes, device).logp(samples, sigma)\n",
    "#     net_logp = model.logp(samples, sigma)\n",
    "\n",
    "#TODO: What do I do with sigma? x_D"
   ]
  },
  {
   "cell_type": "code",
   "execution_count": null,
   "metadata": {},
   "outputs": [],
   "source": [
    "# def estimate_KL_divergence(model, n_samples, logging=False):\n",
    "#     sigma = (torch.randn(n_samples, device=device) * P_std + P_mean).exp()\n",
    "#     samples = toy.gt(classes, device).sample(n_samples, sigma)\n",
    "#     gt_logp = toy.gt(classes, device).logp(samples, sigma)\n",
    "#     net_logp = model.logp(samples, sigma)\n",
    "#     if logging:\n",
    "#         print(\"Samples\", samples[:10])\n",
    "#         print(\"Ground Truth Logp\", gt_logp[:10])\n",
    "#         print(\"Model's Logp\", net_logp[:10])\n",
    "#         print(\"Model's Max Logp\", max(net_logp[:10]))\n",
    "#         print(\"Model's Min Logp\", min(net_logp[:10]))\n",
    "#         print(\"Model's p\", torch.exp( net_logp )[:10])\n",
    "#     return float(torch.sum( torch.exp( net_logp - max(net_logp) ) * (net_logp - gt_logp) ) / n_samples)"
   ]
  }
 ],
 "metadata": {
  "kernelspec": {
   "display_name": "SCID",
   "language": "python",
   "name": "python3"
  },
  "language_info": {
   "codemirror_mode": {
    "name": "ipython",
    "version": 3
   },
   "file_extension": ".py",
   "mimetype": "text/x-python",
   "name": "python",
   "nbconvert_exporter": "python",
   "pygments_lexer": "ipython3",
   "version": "3.13.2"
  }
 },
 "nbformat": 4,
 "nbformat_minor": 2
}
