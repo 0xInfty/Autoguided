{
 "cells": [
  {
   "cell_type": "code",
   "execution_count": 77,
   "id": "31e7dded",
   "metadata": {},
   "outputs": [],
   "source": [
    "import torch\n",
    "import numpy as np\n",
    "import matplotlib.pyplot as plt\n",
    "import tqdm\n",
    "import pyvtorch.aux as vtaux\n",
    "\n",
    "import karras.dnnlib as dnnlib\n",
    "import Images.calculate_metrics as calc\n",
    "import Images.generate_images as gen"
   ]
  },
  {
   "cell_type": "markdown",
   "id": "d2757395",
   "metadata": {},
   "source": [
    "## Dataset statistics"
   ]
  },
  {
   "cell_type": "markdown",
   "id": "1a9cc2d0",
   "metadata": {},
   "source": [
    "### Tiny ImageNet"
   ]
  },
  {
   "cell_type": "code",
   "execution_count": 6,
   "id": "b88ca9c3",
   "metadata": {},
   "outputs": [],
   "source": [
    "dataset_name = \"tiny\""
   ]
  },
  {
   "cell_type": "code",
   "execution_count": null,
   "id": "ebd49cc1",
   "metadata": {},
   "outputs": [],
   "source": [
    "dataset_kwargs = calc.get_dataset_kwargs(dataset_name, image_path=None)\n",
    "dataset_obj = dnnlib.util.construct_class_by_name(**dataset_kwargs, random_seed=0)"
   ]
  },
  {
   "cell_type": "code",
   "execution_count": null,
   "id": "0a37f1f5",
   "metadata": {},
   "outputs": [
    {
     "name": "stderr",
     "output_type": "stream",
     "text": [
      "  0%|          | 0/100000 [00:00<?, ?it/s]/tmp/ipykernel_3048611/3385920770.py:16: DeprecationWarning: __array__ implementation doesn't accept a copy keyword, so passing copy=False failed. __array__ must implement 'dtype' and 'copy' keyword arguments. To learn more, see the migration guide https://numpy.org/devdocs/numpy_2_0_migration_guide.html#adapting-to-changes-in-the-copy-keyword\n",
      "  all_x_mean.append(np.array(*[torch.mean(x, axis=(1,2)).detach().cpu()]))\n",
      "/tmp/ipykernel_3048611/3385920770.py:17: DeprecationWarning: __array__ implementation doesn't accept a copy keyword, so passing copy=False failed. __array__ must implement 'dtype' and 'copy' keyword arguments. To learn more, see the migration guide https://numpy.org/devdocs/numpy_2_0_migration_guide.html#adapting-to-changes-in-the-copy-keyword\n",
      "  all_x_sqs_mean.append(np.array(*[torch.mean(x**2, axis=(1,2)).detach().cpu()]))\n",
      "100%|██████████| 100000/100000 [01:10<00:00, 1423.94it/s]\n"
     ]
    }
   ],
   "source": [
    "x_loader = lambda index : dataset_obj[index][1]\n",
    "stats = vtaux.calculate_stats(len(dataset_obj), x_loader)"
   ]
  },
  {
   "cell_type": "code",
   "execution_count": 56,
   "id": "0086b8b0",
   "metadata": {},
   "outputs": [
    {
     "data": {
      "text/plain": [
       "{'x_shape': torch.Size([3, 64, 64]),\n",
       " 'x_dim': 3,\n",
       " 'all_x_min': array([2., 0., 0., ..., 0., 0., 0.], shape=(100000,)),\n",
       " 'all_x_max': array([255., 255., 255., ..., 217., 255., 255.], shape=(100000,)),\n",
       " 'all_x_mean': array([[132.87378 , 147.03076 , 122.403076],\n",
       "        [103.99927 ,  78.821045,  22.131592],\n",
       "        [160.11401 , 144.73926 , 141.33447 ],\n",
       "        ...,\n",
       "        [ 60.133057,  26.569336,   8.109619],\n",
       "        [166.11646 , 131.41968 ,  56.260254],\n",
       "        [207.63867 ,  81.926025,  30.67212 ]],\n",
       "       shape=(100000, 3), dtype=float32),\n",
       " 'all_stds_x': array([[53.979   , 56.426582, 64.05145 ],\n",
       "        [77.35214 , 59.091846, 31.75845 ],\n",
       "        [39.368923, 69.23086 , 70.82298 ],\n",
       "        ...,\n",
       "        [52.178   , 31.1346  , 10.568505],\n",
       "        [65.04069 , 55.074238, 67.50283 ],\n",
       "        [38.18556 , 52.340843, 47.3147  ]],\n",
       "       shape=(100000, 3), dtype=float32),\n",
       " 'x_min': np.float64(0.0),\n",
       " 'x_max': np.float64(255.0),\n",
       " 'x_mean': array([122.45973, 114.25749, 101.36358], dtype=float32),\n",
       " 'x_std': array([70.492775, 68.55998 , 71.80475 ], dtype=float32)}"
      ]
     },
     "execution_count": 56,
     "metadata": {},
     "output_type": "execute_result"
    }
   ],
   "source": [
    "stats"
   ]
  },
  {
   "cell_type": "code",
   "execution_count": 60,
   "id": "260fd6b6",
   "metadata": {},
   "outputs": [
    {
     "name": "stdout",
     "output_type": "stream",
     "text": [
      "x_min = -1.0\n",
      "x_max = 1.0\n",
      "x_mean = [-0.03953153 -0.10386282 -0.20499152]\n",
      "x_std = [-0.44711548 -0.46227467 -0.4368255 ]\n"
     ]
    }
   ],
   "source": [
    "for k in [\"x_min\", \"x_max\", \"x_mean\", \"x_std\"]:\n",
    "    print(k, \"=\", stats[k] / 127.5 - 1)"
   ]
  },
  {
   "cell_type": "markdown",
   "id": "da25d819",
   "metadata": {},
   "source": [
    "### ImageNet"
   ]
  },
  {
   "cell_type": "code",
   "execution_count": null,
   "id": "af835d22",
   "metadata": {},
   "outputs": [],
   "source": [
    "dataset_name = \"img512\""
   ]
  },
  {
   "cell_type": "code",
   "execution_count": null,
   "id": "6cb564fd",
   "metadata": {},
   "outputs": [],
   "source": [
    "dataset_kwargs = calc.get_dataset_kwargs(dataset_name, image_path=None)\n",
    "dataset_obj = dnnlib.util.construct_class_by_name(**dataset_kwargs, random_seed=0)"
   ]
  },
  {
   "cell_type": "code",
   "execution_count": null,
   "id": "5c5bcc54",
   "metadata": {},
   "outputs": [
    {
     "name": "stderr",
     "output_type": "stream",
     "text": [
      "100%|██████████| 1281167/1281167 [2:28:37<00:00, 143.67it/s]  \n"
     ]
    }
   ],
   "source": [
    "# x_loader = lambda index : dataset_obj[index][1]\n",
    "x_loader = lambda index : torch.Tensor(dataset_obj[index][1])\n",
    "stats = vtaux.calculate_stats(len(dataset_obj), x_loader)"
   ]
  },
  {
   "cell_type": "code",
   "execution_count": null,
   "id": "593e1911",
   "metadata": {},
   "outputs": [
    {
     "data": {
      "text/plain": [
       "{'x_shape': torch.Size([3, 512, 512]),\n",
       " 'x_dim': 3,\n",
       " 'all_x_min': array([0., 0., 9., ..., 7., 0., 0.], shape=(1281167,)),\n",
       " 'all_x_max': array([255., 255., 255., ..., 252., 255., 255.], shape=(1281167,)),\n",
       " 'all_x_mean': array([[130.78575 , 128.22478 , 105.861206],\n",
       "        [140.95712 , 129.00656 , 104.63354 ],\n",
       "        [110.517365, 118.52455 ,  97.95478 ],\n",
       "        ...,\n",
       "        [163.70988 , 156.12029 , 139.55792 ],\n",
       "        [ 61.800724,  48.505   ,  40.783894],\n",
       "        [ 76.47135 ,  93.902725,  77.668526]],\n",
       "       shape=(1281167, 3), dtype=float32),\n",
       " 'all_stds_x': array([[83.564186, 81.642586, 95.86758 ],\n",
       "        [67.36732 , 61.5589  , 62.421864],\n",
       "        [46.838287, 36.040924, 38.12787 ],\n",
       "        ...,\n",
       "        [52.24701 , 51.36213 , 60.686085],\n",
       "        [85.13034 , 71.48992 , 65.17409 ],\n",
       "        [51.21757 , 62.511326, 53.195656]],\n",
       "       shape=(1281167, 3), dtype=float32),\n",
       " 'x_min': np.float64(0.0),\n",
       " 'x_max': np.float64(255.0),\n",
       " 'x_mean': array([123.69064, 116.78469, 103.86867], dtype=float32),\n",
       " 'x_std': array([71.360756, 69.414505, 72.73903 ], dtype=float32)}"
      ]
     },
     "metadata": {},
     "output_type": "display_data"
    }
   ],
   "source": [
    "stats"
   ]
  },
  {
   "cell_type": "code",
   "execution_count": null,
   "id": "73f33a87",
   "metadata": {},
   "outputs": [
    {
     "name": "stdout",
     "output_type": "stream",
     "text": [
      "x_min = -1.0\n",
      "x_max = 1.0\n",
      "x_mean = [-0.02987731 -0.08404166 -0.1853438 ]\n",
      "x_std = [-0.4403078  -0.4555725  -0.42949784]\n"
     ]
    }
   ],
   "source": [
    "for k in [\"x_min\", \"x_max\", \"x_mean\", \"x_std\"]:\n",
    "    print(k, \"=\", stats[k] / 127.5 - 1)"
   ]
  }
 ],
 "metadata": {
  "kernelspec": {
   "display_name": "SCIDev",
   "language": "python",
   "name": "python3"
  },
  "language_info": {
   "codemirror_mode": {
    "name": "ipython",
    "version": 3
   },
   "file_extension": ".py",
   "mimetype": "text/x-python",
   "name": "python",
   "nbconvert_exporter": "python",
   "pygments_lexer": "ipython3",
   "version": "3.13.2"
  }
 },
 "nbformat": 4,
 "nbformat_minor": 5
}
