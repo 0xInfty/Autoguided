{
 "cells": [
  {
   "cell_type": "code",
   "execution_count": null,
   "metadata": {},
   "outputs": [],
   "source": [
    "import os\n",
    "main_dir = os.path.dirname(os.path.dirname(os.getcwd()))\n",
    "os.chdir(main_dir)\n",
    "\n",
    "import pyvdirs.dirs as dirs\n",
    "import sys\n",
    "sys.path.insert(0, dirs.SYSTEM_HOME)\n",
    "sys.path.insert(0, os.path.join(dirs.SYSTEM_HOME, \"ToyExample\"))\n",
    "\n",
    "import numpy as np\n",
    "import torch\n",
    "import matplotlib.pyplot as plt\n",
    "\n",
    "import ToyExample.toy_example as toy\n",
    "\n",
    "%load_ext autoreload\n",
    "%autoreload 2"
   ]
  },
  {
   "cell_type": "code",
   "execution_count": 36,
   "metadata": {},
   "outputs": [],
   "source": [
    "ref_loss = np.ones(15**2)\n",
    "learner_loss = np.arange(15**2)"
   ]
  },
  {
   "cell_type": "code",
   "execution_count": 37,
   "metadata": {},
   "outputs": [],
   "source": [
    "learner_loss = torch.Tensor(learner_loss).cpu()\n",
    "ref_loss = torch.Tensor(ref_loss).cpu()"
   ]
  },
  {
   "cell_type": "code",
   "execution_count": 38,
   "metadata": {},
   "outputs": [],
   "source": [
    "filter_ratio = 0.5\n",
    "n = 16\n",
    "learnability = True"
   ]
  },
  {
   "cell_type": "code",
   "execution_count": 39,
   "metadata": {},
   "outputs": [],
   "source": [
    "# Define size of super-batch\n",
    "B = int(learner_loss.numel()) # Size B of a super-batch\n",
    "\n",
    "# Each mini-batch of size b will be split in n chunks\n",
    "b_over_n = int(B * (1 - filter_ratio) / n) # Size b/n of each mini-batch chunk\n",
    "\n",
    "# Construct the scores matrix\n",
    "learner_loss = learner_loss.reshape((B,1))\n",
    "ref_loss = ref_loss.reshape((1,B))\n",
    "scores = learner_loss - ref_loss if learnability else - ref_loss  # Shape (B,B)\n",
    "device = scores.get_device()\n",
    "# Rows use different learner loss ==> i is the learner/student's index\n",
    "# Columns use different reference loss ==> j is the reference/teacher's index"
   ]
  },
  {
   "cell_type": "code",
   "execution_count": 30,
   "metadata": {},
   "outputs": [
    {
     "data": {
      "text/plain": [
       "225"
      ]
     },
     "execution_count": 30,
     "metadata": {},
     "output_type": "execute_result"
    }
   ],
   "source": [
    "B"
   ]
  },
  {
   "cell_type": "code",
   "execution_count": 31,
   "metadata": {},
   "outputs": [
    {
     "data": {
      "text/plain": [
       "7"
      ]
     },
     "execution_count": 31,
     "metadata": {},
     "output_type": "execute_result"
    }
   ],
   "source": [
    "b_over_n"
   ]
  },
  {
   "cell_type": "code",
   "execution_count": 50,
   "metadata": {},
   "outputs": [
    {
     "name": "stdout",
     "output_type": "stream",
     "text": [
      "112\n"
     ]
    }
   ],
   "source": [
    "b = b_over_n * n\n",
    "print(b)"
   ]
  },
  {
   "cell_type": "code",
   "execution_count": 34,
   "metadata": {},
   "outputs": [
    {
     "data": {
      "text/plain": [
       "torch.Size([225, 1])"
      ]
     },
     "execution_count": 34,
     "metadata": {},
     "output_type": "execute_result"
    }
   ],
   "source": [
    "learner_loss.shape"
   ]
  },
  {
   "cell_type": "code",
   "execution_count": 40,
   "metadata": {},
   "outputs": [
    {
     "data": {
      "text/plain": [
       "tensor([[ -1.,  -1.,  -1.,  ...,  -1.,  -1.,  -1.],\n",
       "        [  0.,   0.,   0.,  ...,   0.,   0.,   0.],\n",
       "        [  1.,   1.,   1.,  ...,   1.,   1.,   1.],\n",
       "        ...,\n",
       "        [221., 221., 221.,  ..., 221., 221., 221.],\n",
       "        [222., 222., 222.,  ..., 222., 222., 222.],\n",
       "        [223., 223., 223.,  ..., 223., 223., 223.]])"
      ]
     },
     "execution_count": 40,
     "metadata": {},
     "output_type": "execute_result"
    }
   ],
   "source": [
    "scores"
   ]
  },
  {
   "cell_type": "code",
   "execution_count": null,
   "metadata": {},
   "outputs": [],
   "source": [
    "# Extract basic score for each element of the super-batch\n",
    "logits_ii = torch.diag(scores) # Elements from the diagonal of the scores matrix\n",
    "#Q: Is this associated to the probability of picking learner i and ref j?\n",
    "\n",
    "# Draw the first mini-batch chunk using a uniform probability distribution\n",
    "indices = np.random.choice(B, b_over_n, replace=False)"
   ]
  },
  {
   "cell_type": "code",
   "execution_count": 46,
   "metadata": {},
   "outputs": [
    {
     "name": "stdout",
     "output_type": "stream",
     "text": [
      "tensor([-1.,  0.,  1.,  2.,  3.,  4.,  5.,  6.,  7.,  8.])\n",
      "torch.Size([225])\n"
     ]
    }
   ],
   "source": [
    "print(logits_ii[:10])\n",
    "print(logits_ii.shape)"
   ]
  },
  {
   "cell_type": "code",
   "execution_count": 47,
   "metadata": {},
   "outputs": [
    {
     "data": {
      "text/plain": [
       "array([167,  66,  41,  12,  71, 197, 172])"
      ]
     },
     "execution_count": 47,
     "metadata": {},
     "output_type": "execute_result"
    }
   ],
   "source": [
    "indices"
   ]
  },
  {
   "cell_type": "code",
   "execution_count": 52,
   "metadata": {},
   "outputs": [],
   "source": [
    "# Get a binary mask that indicates which samples have been selected so far\n",
    "is_sampled = torch.eye(B).cpu()[indices].sum(axis=0) # (B,)"
   ]
  },
  {
   "cell_type": "code",
   "execution_count": 55,
   "metadata": {},
   "outputs": [
    {
     "data": {
      "text/plain": [
       "tensor(True)"
      ]
     },
     "execution_count": 55,
     "metadata": {},
     "output_type": "execute_result"
    }
   ],
   "source": [
    "torch.all(is_sampled[indices] == 1)"
   ]
  },
  {
   "cell_type": "code",
   "execution_count": 59,
   "metadata": {},
   "outputs": [
    {
     "data": {
      "text/plain": [
       "True"
      ]
     },
     "execution_count": 59,
     "metadata": {},
     "output_type": "execute_result"
    }
   ],
   "source": [
    "all([element==0 for index, element in enumerate(is_sampled) if index not in indices])"
   ]
  },
  {
   "cell_type": "code",
   "execution_count": null,
   "metadata": {},
   "outputs": [
    {
     "name": "stdout",
     "output_type": "stream",
     "text": [
      "Example row masked with 1 tensor([166., 166., 166., 166., 166., 166., 166., 166., 166., 166., 166., 166.,\n",
      "        166., 166., 166., 166., 166., 166., 166., 166., 166., 166., 166., 166.,\n",
      "        166., 166., 166., 166., 166., 166., 166., 166., 166., 166., 166., 166.,\n",
      "        166., 166., 166., 166., 166., 166., 166., 166., 166., 166., 166., 166.,\n",
      "        166., 166., 166., 166., 166., 166., 166., 166., 166., 166., 166., 166.,\n",
      "        166., 166., 166., 166., 166., 166., 166., 166., 166., 166., 166., 166.,\n",
      "        166., 166., 166., 166., 166., 166., 166., 166., 166., 166., 166., 166.,\n",
      "        166., 166., 166., 166., 166., 166., 166., 166., 166., 166., 166., 166.,\n",
      "        166., 166., 166., 166., 166., 166., 166., 166., 166., 166., 166., 166.,\n",
      "        166., 166., 166., 166., 166., 166., 166., 166., 166., 166., 166., 166.,\n",
      "        166., 166., 166., 166., 166., 166., 166., 166., 166., 166., 166., 166.,\n",
      "        166., 166., 166., 166., 166., 166., 166., 166., 166., 166., 166., 166.,\n",
      "        166., 166., 166., 166., 166., 166., 166., 166., 166., 166., 166., 166.,\n",
      "        166., 166., 166., 166., 166., 166., 166., 166., 166., 166., 166., 166.,\n",
      "        166., 166., 166., 166., 166., 166., 166., 166., 166., 166., 166., 166.,\n",
      "        166., 166., 166., 166., 166., 166., 166., 166., 166., 166., 166., 166.,\n",
      "        166., 166., 166., 166., 166., 166., 166., 166., 166., 166., 166., 166.,\n",
      "        166., 166., 166., 166., 166., 166., 166., 166., 166., 166., 166., 166.,\n",
      "        166., 166., 166., 166., 166., 166., 166., 166., 166.])\n",
      "Test True\n",
      "Example row masked with 0 tensor([-0., -0., -0., -0., -0., -0., -0., -0., -0., -0., -0., -0., -0., -0., -0., -0., -0., -0., -0., -0., -0., -0., -0., -0.,\n",
      "        -0., -0., -0., -0., -0., -0., -0., -0., -0., -0., -0., -0., -0., -0., -0., -0., -0., -0., -0., -0., -0., -0., -0., -0.,\n",
      "        -0., -0., -0., -0., -0., -0., -0., -0., -0., -0., -0., -0., -0., -0., -0., -0., -0., -0., -0., -0., -0., -0., -0., -0.,\n",
      "        -0., -0., -0., -0., -0., -0., -0., -0., -0., -0., -0., -0., -0., -0., -0., -0., -0., -0., -0., -0., -0., -0., -0., -0.,\n",
      "        -0., -0., -0., -0., -0., -0., -0., -0., -0., -0., -0., -0., -0., -0., -0., -0., -0., -0., -0., -0., -0., -0., -0., -0.,\n",
      "        -0., -0., -0., -0., -0., -0., -0., -0., -0., -0., -0., -0., -0., -0., -0., -0., -0., -0., -0., -0., -0., -0., -0., -0.,\n",
      "        -0., -0., -0., -0., -0., -0., -0., -0., -0., -0., -0., -0., -0., -0., -0., -0., -0., -0., -0., -0., -0., -0., -0., -0.,\n",
      "        -0., -0., -0., -0., -0., -0., -0., -0., -0., -0., -0., -0., -0., -0., -0., -0., -0., -0., -0., -0., -0., -0., -0., -0.,\n",
      "        -0., -0., -0., -0., -0., -0., -0., -0., -0., -0., -0., -0., -0., -0., -0., -0., -0., -0., -0., -0., -0., -0., -0., -0.,\n",
      "        -0., -0., -0., -0., -0., -0., -0., -0., -0.])\n",
      "Test False\n",
      "tensor([719., 719., 719., 719., 719., 719., 719., 719., 719., 719., 719., 719.,\n",
      "        719., 719., 719., 719., 719., 719., 719., 719., 719., 719., 719., 719.,\n",
      "        719., 719., 719., 719., 719., 719., 719., 719., 719., 719., 719., 719.,\n",
      "        719., 719., 719., 719., 719., 719., 719., 719., 719., 719., 719., 719.,\n",
      "        719., 719., 719., 719., 719., 719., 719., 719., 719., 719., 719., 719.,\n",
      "        719., 719., 719., 719., 719., 719., 719., 719., 719., 719., 719., 719.,\n",
      "        719., 719., 719., 719., 719., 719., 719., 719., 719., 719., 719., 719.,\n",
      "        719., 719., 719., 719., 719., 719., 719., 719., 719., 719., 719., 719.,\n",
      "        719., 719., 719., 719., 719., 719., 719., 719., 719., 719., 719., 719.,\n",
      "        719., 719., 719., 719., 719., 719., 719., 719., 719., 719., 719., 719.,\n",
      "        719., 719., 719., 719., 719., 719., 719., 719., 719., 719., 719., 719.,\n",
      "        719., 719., 719., 719., 719., 719., 719., 719., 719., 719., 719., 719.,\n",
      "        719., 719., 719., 719., 719., 719., 719., 719., 719., 719., 719., 719.,\n",
      "        719., 719., 719., 719., 719., 719., 719., 719., 719., 719., 719., 719.,\n",
      "        719., 719., 719., 719., 719., 719., 719., 719., 719., 719., 719., 719.,\n",
      "        719., 719., 719., 719., 719., 719., 719., 719., 719., 719., 719., 719.,\n",
      "        719., 719., 719., 719., 719., 719., 719., 719., 719., 719., 719., 719.,\n",
      "        719., 719., 719., 719., 719., 719., 719., 719., 719., 719., 719., 719.,\n",
      "        719., 719., 719., 719., 719., 719., 719., 719., 719.])\n"
     ]
    }
   ],
   "source": [
    "# Mask scores to only keep learner rows k that have already been sampled\n",
    "logits_kj = (scores * is_sampled.view(B, 1))\n",
    "print(\"Example row masked with 1\", logits_kj[indices[0]])\n",
    "print(\"Test\", all(logits_kj[indices[0]]!=0))\n",
    "for i in range(B):\n",
    "    if i not in indices: \n",
    "        print(\"Example row masked with 0\", logits_kj[i])\n",
    "        print(\"Test\", all(logits_kj[i]==0))\n",
    "        break\n",
    "logits_kj = logits_kj.sum(axis=0) # Sum over columns (B,)\n",
    "print(logits_kj)\n",
    "#Q: Associated to prob of picking learner i and an ref k that was already selected?"
   ]
  },
  {
   "cell_type": "code",
   "execution_count": null,
   "metadata": {},
   "outputs": [],
   "source": [
    "# Mask scores to only keep learner rows k that have already been sampled\n",
    "logits_kj = (scores * is_sampled.view(B, 1)).sum(axis=0) # Sum over columns (B,)\n",
    "#Q: Associated to prob of picking learner i and an ref k that was already selected?\n",
    "\n",
    "# Mask scores to only keep ref columns k that have already been sampled\n",
    "logits_ik = (scores * is_sampled.view(1, B)).sum(axis=1) # Sum over rows (B,)\n",
    "#Q: Associated to prob of picking learner i and an ref k that was already selected?"
   ]
  }
 ],
 "metadata": {
  "kernelspec": {
   "display_name": "SCID",
   "language": "python",
   "name": "python3"
  },
  "language_info": {
   "codemirror_mode": {
    "name": "ipython",
    "version": 3
   },
   "file_extension": ".py",
   "mimetype": "text/x-python",
   "name": "python",
   "nbconvert_exporter": "python",
   "pygments_lexer": "ipython3",
   "version": "3.13.2"
  }
 },
 "nbformat": 4,
 "nbformat_minor": 2
}
