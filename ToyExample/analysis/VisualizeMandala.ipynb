{
 "cells": [
  {
   "cell_type": "code",
   "execution_count": null,
   "id": "862d6939",
   "metadata": {},
   "outputs": [
    {
     "name": "stdout",
     "output_type": "stream",
     "text": [
      "The autoreload extension is already loaded. To reload it, use:\n",
      "  %reload_ext autoreload\n"
     ]
    }
   ],
   "source": [
    "import os\n",
    "main_dir = os.path.dirname(os.path.dirname(os.getcwd()))\n",
    "os.chdir(main_dir)\n",
    "\n",
    "import pyvdirs.dirs as dirs\n",
    "import sys\n",
    "sys.path.insert(0, dirs.SYSTEM_HOME)\n",
    "sys.path.insert(0, os.path.join(dirs.SYSTEM_HOME, \"ToyExample\"))\n",
    "\n",
    "import builtins\n",
    "import pickle\n",
    "import torch\n",
    "import numpy as np\n",
    "import matplotlib.pyplot as plt\n",
    "\n",
    "from ToyExample.toy_example import gt, mandala_score, plot_mandala_score\n",
    "\n",
    "%load_ext autoreload\n",
    "%autoreload 2"
   ]
  },
  {
   "cell_type": "code",
   "execution_count": 101,
   "id": "f9376723",
   "metadata": {},
   "outputs": [],
   "source": [
    "series = \"30_TestEfficiency\"\n",
    "classes='A'\n",
    "test_n_samples = 10*2**14\n",
    "vmax = 10250 # 3600\n",
    "\n",
    "gnet_path = os.path.join(dirs.MODELS_HOME, \"ToyExample/00_PreTrained/Ref/iter0512.pkl\")\n",
    "\n",
    "device = torch.device('cuda')\n",
    "full_tree = False\n",
    "show_points = False"
   ]
  },
  {
   "cell_type": "code",
   "execution_count": 102,
   "id": "1af5e412",
   "metadata": {},
   "outputs": [],
   "source": [
    "if full_tree: kwargs = {}\n",
    "elif not full_tree and show_points: kwargs = dict(show_titles=False, full_tree=False, show_points=True)\n",
    "else: kwargs = dict(show_titles=False, full_tree=False, show_points=False)"
   ]
  },
  {
   "cell_type": "code",
   "execution_count": 103,
   "id": "8e0264a3",
   "metadata": {},
   "outputs": [],
   "source": [
    "seeds = [0, 73, 231, 172, 357]\n",
    "data = \"> 30_TestEfficiency ACIDNonInverted_073 >>> Time >>> 1279 >>> 15.866415882110596\\\n",
    "> 30_TestEfficiency ACIDNonInverted_073 >>> Examples >>> 4095 >>> 3342336\\\n",
    "> 30_TestEfficiency ACIDNonInverted_231 >>> Time >>> 1279 >>> 15.861848334471384\\\n",
    "> 30_TestEfficiency ACIDNonInverted_231 >>> Examples >>> 4095 >>> 3342336\\\n",
    "> 30_TestEfficiency ACIDNonInverted_000 >>> Time >>> 1279 >>> 15.796777415275574\\\n",
    "> 30_TestEfficiency ACIDNonInverted_000 >>> Examples >>> 4095 >>> 3342336\\\n",
    "> 30_TestEfficiency ACIDNonInverted_172 >>> Time >>> 1279 >>> 15.885940523942311 \\\n",
    "> 30_TestEfficiency ACIDNonInverted_172 >>> Examples >>> 4095 >>> 3342336 \\\n",
    "> 30_TestEfficiency ACIDNonInverted_357 >>> Time >>> 1535 >>> 16.134254491329195 \\\n",
    "> 30_TestEfficiency ACIDNonInverted_357 >>> Examples >>> 4095 >>> 3342336\\\n",
    "> 30_TestEfficiency EarlyACIDNonInverted_073 >>> Time >>> 4095 >>> 17.272693932056427\\\n",
    "> 30_TestEfficiency EarlyACIDNonInverted_073 >>> Examples >>> 1023 >>> 3630144\\\n",
    "> 30_TestEfficiency EarlyACIDNonInverted_357 >>> Time >>> 3583 >>> 16.468802710374195\\\n",
    "> 30_TestEfficiency EarlyACIDNonInverted_357 >>> Examples >>> 1023 >>> 3003664 \\\n",
    "> 30_TestEfficiency EarlyACIDNonInverted_172 >>> Time >>> 3839 >>> 16.44512361685435 \\\n",
    "> 30_TestEfficiency EarlyACIDNonInverted_172 >>> Examples >>> 1023 >>> 3564544 \\\n",
    "> 30_TestEfficiency EarlyACIDNonInverted_231 >>> Time >>> 3583 >>> 16.695520043373108 \\\n",
    "> 30_TestEfficiency EarlyACIDNonInverted_231 >>> Examples >>> 1023 >>> 3020064 \\\n",
    "> 30_TestEfficiency EarlyACIDNonInverted_000 >>> Time >>> 4095 >>> 17.21331090927124 \\\n",
    "> 30_TestEfficiency EarlyACIDNonInverted_000 >>> Examples >>> 1023 >>> 3561264 \\\n",
    "> 30_TestEfficiency Random_000 >>> Time >>> 3839 >>> 16.457821106910707 \\\n",
    "> 30_TestEfficiency Random_000 >>> Examples >>> 4095 >>> 3354624 \\\n",
    "> 30_TestEfficiency Random_172 >>> Time >>> 3839 >>> 16.855511740843454 \\\n",
    "> 30_TestEfficiency Random_172 >>> Examples >>> 4095 >>> 3354624 \\\n",
    "> 30_TestEfficiency Random_357 >>> Time >>> 3839 >>> 16.96301788886388 \\\n",
    "> 30_TestEfficiency Random_357 >>> Examples >>> 4095 >>> 3354624 \\\n",
    "> 30_TestEfficiency Random_073 >>> Time >>> 4095 >>> 16.956689266363778 \\\n",
    "> 30_TestEfficiency Random_073 >>> Examples >>> 4095 >>> 3354624 \\\n",
    "> 30_TestEfficiency Random_231 >>> Time >>> 3839 >>> 16.97756971915563 \\\n",
    "> 30_TestEfficiency Random_231 >>> Examples >>> 4095 >>> 3354624\\\n",
    "> 30_TestEfficiency NoACID_357 >>> Time >>> 3839 >>> 16.64228993654251\\\n",
    "> 30_TestEfficiency NoACID_357 >>> Examples >>> 767 >>> 3145728\\\n",
    "> 30_TestEfficiency NoACID_000 >>> Time >>> 3839 >>> 17.218669092655183 \\\n",
    "> 30_TestEfficiency NoACID_000 >>> Examples >>> 767 >>> 3145728 \\\n",
    "> 30_TestEfficiency NoACID_073 >>> Time >>> 3839 >>> 16.55296248992284 \\\n",
    "> 30_TestEfficiency NoACID_073 >>> Examples >>> 767 >>> 3145728 \\\n",
    "> 30_TestEfficiency NoACID_172 >>> Time >>> 3839 >>> 16.540579922993977 \\\n",
    "> 30_TestEfficiency NoACID_172 >>> Examples >>> 767 >>> 3145728 \\\n",
    "> 30_TestEfficiency NoACID_231 >>> Time >>> 3839 >>> 16.666315853595734 \\\n",
    "> 30_TestEfficiency NoACID_231 >>> Examples >>> 767 >>> 3145728 \""
   ]
  },
  {
   "cell_type": "code",
   "execution_count": 104,
   "id": "8983afce",
   "metadata": {},
   "outputs": [],
   "source": [
    "data = [d for d in data.split(\"> 30_TestEfficiency\") if d != \"\"]"
   ]
  },
  {
   "cell_type": "code",
   "execution_count": 105,
   "id": "8bb456f0",
   "metadata": {},
   "outputs": [],
   "source": [
    "data = [d.split(\" \") for d in data]\n",
    "data = [[d for d in dat if d not in [\"\",\">>>\"]] for dat in data]\n",
    "data = [[*d[0].split(\"_\"), *d[1:]] for d in data]"
   ]
  },
  {
   "cell_type": "code",
   "execution_count": 107,
   "id": "db89c60a",
   "metadata": {},
   "outputs": [
    {
     "name": "stdout",
     "output_type": "stream",
     "text": [
      "16.573605743845302 0.4583550910060457\n"
     ]
    }
   ],
   "source": [
    "times = [float(dat[-1]) for dat in data if \"Time\" in dat]\n",
    "print(np.mean(times), np.std(times))"
   ]
  },
  {
   "cell_type": "code",
   "execution_count": 108,
   "id": "3480419d",
   "metadata": {},
   "outputs": [
    {
     "name": "stdout",
     "output_type": "stream",
     "text": [
      "3299656.0 166777.41602507216\n"
     ]
    }
   ],
   "source": [
    "examples = [float(dat[-1]) for dat in data if \"Examples\" in dat]\n",
    "print(np.mean(examples), np.std(examples))"
   ]
  },
  {
   "cell_type": "code",
   "execution_count": 109,
   "id": "ac6fb93c",
   "metadata": {},
   "outputs": [],
   "source": [
    "sorted_data = {}\n",
    "for d in data:\n",
    "    if d[2] not in sorted_data.keys():\n",
    "        sorted_data[ d[2] ] = {}\n",
    "    if d[0] not in sorted_data[ d[2] ].keys():\n",
    "        sorted_data[ d[2] ][ d[0] ] = []\n",
    "    sorted_data[ d[2] ][ d[0] ].append( [d[1],d[-2],d[-1]] )"
   ]
  },
  {
   "cell_type": "markdown",
   "id": "b8a8eb7c",
   "metadata": {},
   "source": [
    "### Don't accumulate"
   ]
  },
  {
   "cell_type": "code",
   "execution_count": null,
   "id": "475e8f3b",
   "metadata": {},
   "outputs": [],
   "source": [
    "# Guided\n",
    "gtd, gtcomps = gt(classes, device)\n",
    "with builtins.open(gnet_path, \"rb\") as f:\n",
    "    gnet = pickle.load(f).to(device)\n",
    "for k in sorted_data.keys():\n",
    "    for folder, dat in sorted_data[k].items():\n",
    "        for d in dat:\n",
    "            seed, epoch, time = d\n",
    "            epoch = int(epoch)\n",
    "\n",
    "            net_filepath = os.path.join(dirs.MODELS_HOME, \"ToyExample\", \n",
    "                                        series, folder, f\"iter{epoch+1:04}.pkl\")\n",
    "            with builtins.open(net_filepath, \"rb\") as f:\n",
    "                net = pickle.load(f).to(device)\n",
    "\n",
    "            if full_tree:\n",
    "                fig_filename = f\"mandala_{k.lower()}_guided_{epoch+1:04}_\"+folder+\".png\"\n",
    "            elif not show_points:\n",
    "                fig_filename = f\"mandala_{k.lower()}_guided_{epoch+1:04}_\"+folder+\"_2.png\"\n",
    "            else:\n",
    "                fig_filename = f\"mandala_{k.lower()}_guided_{epoch+1:04}_\"+folder+\"_3.png\"\n",
    "            fig_filepath = os.path.join(dirs.MODELS_HOME, \"ToyExample\", series, fig_filename)\n",
    "\n",
    "            mandala_score(net, gtd, guide=gnet, guidance_weight=3, \n",
    "                          n_samples=test_n_samples, plotting=True, \n",
    "                          save_fig=fig_filepath, show_stats=False, \n",
    "                          vmax=vmax, log_scale=True, **kwargs);\n",
    "            plt.close()"
   ]
  },
  {
   "cell_type": "code",
   "execution_count": null,
   "id": "cc082dbd",
   "metadata": {},
   "outputs": [],
   "source": [
    "# Unguided\n",
    "gtd, gtcomps = gt(classes, device)\n",
    "with builtins.open(gnet_path, \"rb\") as f:\n",
    "    gnet = pickle.load(f).to(device)\n",
    "for k in sorted_data.keys():\n",
    "    for folder, dat in sorted_data[k].items():\n",
    "        for d in dat:\n",
    "            seed, epoch, time = d\n",
    "            epoch = int(epoch)\n",
    "\n",
    "            net_filepath = os.path.join(dirs.MODELS_HOME, \"ToyExample\", \n",
    "                                        series, folder, f\"iter{epoch+1:04}.pkl\")\n",
    "            with builtins.open(net_filepath, \"rb\") as f:\n",
    "                net = pickle.load(f).to(device)\n",
    "\n",
    "            if full_tree:\n",
    "                fig_filename = f\"mandala_{k.lower()}_{epoch+1:04}_\"+folder+\".png\"\n",
    "            elif not show_points:\n",
    "                fig_filename = f\"mandala_{k.lower()}_{epoch+1:04}_\"+folder+\"_2.png\"\n",
    "            else:\n",
    "                fig_filename = f\"mandala_{k.lower()}_{epoch+1:04}_\"+folder+\"_3.png\"\n",
    "            fig_filepath = os.path.join(dirs.MODELS_HOME, \"ToyExample\", series, fig_filename)\n",
    "\n",
    "            mandala_score(net, gtd, n_samples=test_n_samples, plotting=True, \n",
    "                          save_fig=fig_filepath, show_stats=False, \n",
    "                          vmax=vmax, log_scale=True, **kwargs);\n",
    "            plt.close()"
   ]
  },
  {
   "cell_type": "markdown",
   "id": "7c024773",
   "metadata": {},
   "source": [
    "### Accumulate grid"
   ]
  },
  {
   "cell_type": "code",
   "execution_count": 124,
   "id": "3b58cd9d",
   "metadata": {},
   "outputs": [],
   "source": [
    "# Guided\n",
    "gtd, gtcomps = gt(classes, device)\n",
    "with builtins.open(gnet_path, \"rb\") as f:\n",
    "    gnet = pickle.load(f).to(device)\n",
    "for k in sorted_data.keys():\n",
    "    for folder, dat in sorted_data[k].items():\n",
    "        averaged_grid = []\n",
    "        for d in dat:\n",
    "            seed, epoch, time = d\n",
    "            epoch = int(epoch)\n",
    "            net_filepath = os.path.join(dirs.MODELS_HOME, \"ToyExample\", \n",
    "                                        series, f\"{folder}_{seed:03}\", \n",
    "                                        f\"iter{epoch+1:04}.pkl\")\n",
    "            with builtins.open(net_filepath, \"rb\") as f:\n",
    "                net = pickle.load(f).to(device)\n",
    "            plotting_args = mandala_score(net, gtd, guide=gnet, guidance_weight=3, \n",
    "                                          n_samples=test_n_samples)[-1]\n",
    "            averaged_grid.append( plotting_args[\"grid\"])\n",
    "\n",
    "        if full_tree:\n",
    "            fig_filename = f\"mandala_{k.lower()}_guided_{epoch+1:04}_\"+folder+\".jpg\"\n",
    "        elif not show_points:\n",
    "            fig_filename = f\"mandala_{k.lower()}_guided_{epoch+1:04}_\"+folder+\"_2.jpg\"\n",
    "        else:\n",
    "            fig_filename = f\"mandala_{k.lower()}_guided_{epoch+1:04}_\"+folder+\"_3.jpg\"\n",
    "        fig_filepath = os.path.join(dirs.MODELS_HOME, \"ToyExample\", series, fig_filename)\n",
    "        \n",
    "        del plotting_args[\"grid\"]\n",
    "        plotting_args[\"grid\"] = np.mean(averaged_grid, axis=0)\n",
    "        plot_mandala_score(**plotting_args, save_fig=fig_filepath, show_stats=False, \n",
    "                            vmax=vmax, log_scale=True, **kwargs)\n",
    "        plt.close()"
   ]
  },
  {
   "cell_type": "code",
   "execution_count": null,
   "id": "63930ac7",
   "metadata": {},
   "outputs": [],
   "source": [
    "# Unguided\n",
    "gtd, gtcomps = gt(classes, device)\n",
    "with builtins.open(gnet_path, \"rb\") as f:\n",
    "    gnet = pickle.load(f).to(device)\n",
    "for k in sorted_data.keys():\n",
    "    for folder, dat in sorted_data[k].items():\n",
    "        averaged_grid = []\n",
    "        for d in dat:\n",
    "            seed, epoch, time = d\n",
    "            epoch = int(epoch)\n",
    "            net_filepath = os.path.join(dirs.MODELS_HOME, \"ToyExample\", \n",
    "                                        series, f\"{folder}_{seed:03}\", \n",
    "                                        f\"iter{epoch+1:04}.pkl\")\n",
    "            with builtins.open(net_filepath, \"rb\") as f:\n",
    "                net = pickle.load(f).to(device)\n",
    "            plotting_args = mandala_score(net, gtd, n_samples=test_n_samples)[-1]\n",
    "            averaged_grid.append( plotting_args[\"grid\"])\n",
    "\n",
    "        if full_tree:\n",
    "            fig_filename = f\"mandala_{k.lower()}_{epoch+1:04}_\"+folder+\".jpg\"\n",
    "        elif not show_points:\n",
    "            fig_filename = f\"mandala_{k.lower()}_{epoch+1:04}_\"+folder+\"_2.jpg\"\n",
    "        else:\n",
    "            fig_filename = f\"mandala_{k.lower()}_{epoch+1:04}_\"+folder+\"_3.jpg\"\n",
    "        fig_filepath = os.path.join(dirs.MODELS_HOME, \"ToyExample\", series, fig_filename)\n",
    "        \n",
    "        del plotting_args[\"grid\"]\n",
    "        plotting_args[\"grid\"] = np.mean(averaged_grid, axis=0)\n",
    "        plot_mandala_score(**plotting_args, save_fig=fig_filepath, show_stats=False, \n",
    "                            vmax=vmax, log_scale=True, **kwargs)\n",
    "        plt.close()"
   ]
  }
 ],
 "metadata": {
  "kernelspec": {
   "display_name": "SCIDev",
   "language": "python",
   "name": "python3"
  },
  "language_info": {
   "codemirror_mode": {
    "name": "ipython",
    "version": 3
   },
   "file_extension": ".py",
   "mimetype": "text/x-python",
   "name": "python",
   "nbconvert_exporter": "python",
   "pygments_lexer": "ipython3",
   "version": "3.13.2"
  }
 },
 "nbformat": 4,
 "nbformat_minor": 5
}
